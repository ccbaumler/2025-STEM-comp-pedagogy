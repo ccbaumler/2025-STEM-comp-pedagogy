{
  "metadata": {
    "kernelspec": {
      "name": "python",
      "display_name": "Python (Pyodide)",
      "language": "python"
    },
    "language_info": {
      "codemirror_mode": {
        "name": "python",
        "version": 3
      },
      "file_extension": ".py",
      "mimetype": "text/x-python",
      "name": "python",
      "nbconvert_exporter": "python",
      "pygments_lexer": "ipython3",
      "version": "3.8"
    }
  },
  "nbformat_minor": 5,
  "nbformat": 4,
  "cells": [
    {
      "id": "eb31a1a8-b343-4670-accd-b25220814409",
      "cell_type": "code",
      "source": "%pip install -q pandas",
      "metadata": {
        "trusted": true
      },
      "outputs": [],
      "execution_count": 1
    },
    {
      "id": "4006de22-8f61-4b9b-b7eb-a89132cb3fde",
      "cell_type": "code",
      "source": "import pandas as pd",
      "metadata": {
        "trusted": true
      },
      "outputs": [],
      "execution_count": 2
    },
    {
      "id": "64907dd7-679c-4d3e-abc9-48bb1506300c",
      "cell_type": "code",
      "source": "# When pointing to a file with a path like with 'gapminder_gdp_oceania.csv' \n# we would recieve the error that the file is not found. This is due to the\n# lack of a directory path prior to the filepath above. 'data/gapminder_gdp_oceania.csv'\n\n# data_oceania = pd.read_csv('gapminder_gdp_oceania.csv')",
      "metadata": {
        "trusted": true
      },
      "outputs": [],
      "execution_count": null
    },
    {
      "id": "950d53c2-4bf1-48f6-8775-e12e5222f534",
      "cell_type": "code",
      "source": "data_oceania = pd.read_csv('data/gapminder_gdp_oceania.csv')\ndata_oceania",
      "metadata": {
        "trusted": true
      },
      "outputs": [],
      "execution_count": 3
    },
    {
      "id": "63c8ad40-179a-4c26-b6ad-9a2e2b7a5a51",
      "cell_type": "code",
      "source": "data_oceania_country = pd.read_csv('data/gapminder_gdp_oceania.csv', index_col='country')\ndata_oceania_country",
      "metadata": {
        "trusted": true,
        "scrolled": true
      },
      "outputs": [
        {
          "execution_count": 5,
          "output_type": "execute_result",
          "data": {
            "text/plain": "             gdpPercap_1952  gdpPercap_1957  gdpPercap_1962  gdpPercap_1967  \\\ncountry                                                                       \nAustralia       10039.59564     10949.64959     12217.22686     14526.12465   \nNew Zealand     10556.57566     12247.39532     13175.67800     14463.91893   \n\n             gdpPercap_1972  gdpPercap_1977  gdpPercap_1982  gdpPercap_1987  \\\ncountry                                                                       \nAustralia       16788.62948     18334.19751     19477.00928     21888.88903   \nNew Zealand     16046.03728     16233.71770     17632.41040     19007.19129   \n\n             gdpPercap_1992  gdpPercap_1997  gdpPercap_2002  gdpPercap_2007  \ncountry                                                                      \nAustralia       23424.76683     26997.93657     30687.75473     34435.36744  \nNew Zealand     18363.32494     21050.41377     23189.80135     25185.00911  ",
            "text/html": "<div>\n<style scoped>\n    .dataframe tbody tr th:only-of-type {\n        vertical-align: middle;\n    }\n\n    .dataframe tbody tr th {\n        vertical-align: top;\n    }\n\n    .dataframe thead th {\n        text-align: right;\n    }\n</style>\n<table border=\"1\" class=\"dataframe\">\n  <thead>\n    <tr style=\"text-align: right;\">\n      <th></th>\n      <th>gdpPercap_1952</th>\n      <th>gdpPercap_1957</th>\n      <th>gdpPercap_1962</th>\n      <th>gdpPercap_1967</th>\n      <th>gdpPercap_1972</th>\n      <th>gdpPercap_1977</th>\n      <th>gdpPercap_1982</th>\n      <th>gdpPercap_1987</th>\n      <th>gdpPercap_1992</th>\n      <th>gdpPercap_1997</th>\n      <th>gdpPercap_2002</th>\n      <th>gdpPercap_2007</th>\n    </tr>\n    <tr>\n      <th>country</th>\n      <th></th>\n      <th></th>\n      <th></th>\n      <th></th>\n      <th></th>\n      <th></th>\n      <th></th>\n      <th></th>\n      <th></th>\n      <th></th>\n      <th></th>\n      <th></th>\n    </tr>\n  </thead>\n  <tbody>\n    <tr>\n      <th>Australia</th>\n      <td>10039.59564</td>\n      <td>10949.64959</td>\n      <td>12217.22686</td>\n      <td>14526.12465</td>\n      <td>16788.62948</td>\n      <td>18334.19751</td>\n      <td>19477.00928</td>\n      <td>21888.88903</td>\n      <td>23424.76683</td>\n      <td>26997.93657</td>\n      <td>30687.75473</td>\n      <td>34435.36744</td>\n    </tr>\n    <tr>\n      <th>New Zealand</th>\n      <td>10556.57566</td>\n      <td>12247.39532</td>\n      <td>13175.67800</td>\n      <td>14463.91893</td>\n      <td>16046.03728</td>\n      <td>16233.71770</td>\n      <td>17632.41040</td>\n      <td>19007.19129</td>\n      <td>18363.32494</td>\n      <td>21050.41377</td>\n      <td>23189.80135</td>\n      <td>25185.00911</td>\n    </tr>\n  </tbody>\n</table>\n</div>"
          },
          "metadata": {}
        }
      ],
      "execution_count": 5
    },
    {
      "id": "8c584a10-2d7a-4959-a1b3-0ca38c98e09b",
      "cell_type": "code",
      "source": "data_oceania_country.info()",
      "metadata": {
        "trusted": true
      },
      "outputs": [
        {
          "name": "stdout",
          "output_type": "stream",
          "text": "<class 'pandas.core.frame.DataFrame'>\nIndex: 2 entries, Australia to New Zealand\nData columns (total 12 columns):\n #   Column          Non-Null Count  Dtype  \n---  ------          --------------  -----  \n 0   gdpPercap_1952  2 non-null      float64\n 1   gdpPercap_1957  2 non-null      float64\n 2   gdpPercap_1962  2 non-null      float64\n 3   gdpPercap_1967  2 non-null      float64\n 4   gdpPercap_1972  2 non-null      float64\n 5   gdpPercap_1977  2 non-null      float64\n 6   gdpPercap_1982  2 non-null      float64\n 7   gdpPercap_1987  2 non-null      float64\n 8   gdpPercap_1992  2 non-null      float64\n 9   gdpPercap_1997  2 non-null      float64\n 10  gdpPercap_2002  2 non-null      float64\n 11  gdpPercap_2007  2 non-null      float64\ndtypes: float64(12)\nmemory usage: 200.0+ bytes\n"
        }
      ],
      "execution_count": 6
    },
    {
      "id": "c042aa89-bd97-46dc-be3c-266791412380",
      "cell_type": "code",
      "source": "data_oceania_country.columns",
      "metadata": {
        "trusted": true
      },
      "outputs": [
        {
          "execution_count": 7,
          "output_type": "execute_result",
          "data": {
            "text/plain": "Index(['gdpPercap_1952', 'gdpPercap_1957', 'gdpPercap_1962', 'gdpPercap_1967',\n       'gdpPercap_1972', 'gdpPercap_1977', 'gdpPercap_1982', 'gdpPercap_1987',\n       'gdpPercap_1992', 'gdpPercap_1997', 'gdpPercap_2002', 'gdpPercap_2007'],\n      dtype='object')"
          },
          "metadata": {}
        }
      ],
      "execution_count": 7
    },
    {
      "id": "7d5c5890-2f8a-4aae-8425-dda7bcfcd8cb",
      "cell_type": "code",
      "source": "data_oceania_country.T",
      "metadata": {
        "trusted": true
      },
      "outputs": [
        {
          "execution_count": 8,
          "output_type": "execute_result",
          "data": {
            "text/plain": "country           Australia  New Zealand\ngdpPercap_1952  10039.59564  10556.57566\ngdpPercap_1957  10949.64959  12247.39532\ngdpPercap_1962  12217.22686  13175.67800\ngdpPercap_1967  14526.12465  14463.91893\ngdpPercap_1972  16788.62948  16046.03728\ngdpPercap_1977  18334.19751  16233.71770\ngdpPercap_1982  19477.00928  17632.41040\ngdpPercap_1987  21888.88903  19007.19129\ngdpPercap_1992  23424.76683  18363.32494\ngdpPercap_1997  26997.93657  21050.41377\ngdpPercap_2002  30687.75473  23189.80135\ngdpPercap_2007  34435.36744  25185.00911",
            "text/html": "<div>\n<style scoped>\n    .dataframe tbody tr th:only-of-type {\n        vertical-align: middle;\n    }\n\n    .dataframe tbody tr th {\n        vertical-align: top;\n    }\n\n    .dataframe thead th {\n        text-align: right;\n    }\n</style>\n<table border=\"1\" class=\"dataframe\">\n  <thead>\n    <tr style=\"text-align: right;\">\n      <th>country</th>\n      <th>Australia</th>\n      <th>New Zealand</th>\n    </tr>\n  </thead>\n  <tbody>\n    <tr>\n      <th>gdpPercap_1952</th>\n      <td>10039.59564</td>\n      <td>10556.57566</td>\n    </tr>\n    <tr>\n      <th>gdpPercap_1957</th>\n      <td>10949.64959</td>\n      <td>12247.39532</td>\n    </tr>\n    <tr>\n      <th>gdpPercap_1962</th>\n      <td>12217.22686</td>\n      <td>13175.67800</td>\n    </tr>\n    <tr>\n      <th>gdpPercap_1967</th>\n      <td>14526.12465</td>\n      <td>14463.91893</td>\n    </tr>\n    <tr>\n      <th>gdpPercap_1972</th>\n      <td>16788.62948</td>\n      <td>16046.03728</td>\n    </tr>\n    <tr>\n      <th>gdpPercap_1977</th>\n      <td>18334.19751</td>\n      <td>16233.71770</td>\n    </tr>\n    <tr>\n      <th>gdpPercap_1982</th>\n      <td>19477.00928</td>\n      <td>17632.41040</td>\n    </tr>\n    <tr>\n      <th>gdpPercap_1987</th>\n      <td>21888.88903</td>\n      <td>19007.19129</td>\n    </tr>\n    <tr>\n      <th>gdpPercap_1992</th>\n      <td>23424.76683</td>\n      <td>18363.32494</td>\n    </tr>\n    <tr>\n      <th>gdpPercap_1997</th>\n      <td>26997.93657</td>\n      <td>21050.41377</td>\n    </tr>\n    <tr>\n      <th>gdpPercap_2002</th>\n      <td>30687.75473</td>\n      <td>23189.80135</td>\n    </tr>\n    <tr>\n      <th>gdpPercap_2007</th>\n      <td>34435.36744</td>\n      <td>25185.00911</td>\n    </tr>\n  </tbody>\n</table>\n</div>"
          },
          "metadata": {}
        }
      ],
      "execution_count": 8
    },
    {
      "id": "b7f85076-5990-47e7-8319-d97d1ba21dc3",
      "cell_type": "code",
      "source": "data_oceania_country.describe()",
      "metadata": {
        "trusted": true
      },
      "outputs": [
        {
          "execution_count": 9,
          "output_type": "execute_result",
          "data": {
            "text/plain": "       gdpPercap_1952  gdpPercap_1957  gdpPercap_1962  gdpPercap_1967  \\\ncount        2.000000        2.000000        2.000000        2.000000   \nmean     10298.085650    11598.522455    12696.452430    14495.021790   \nstd        365.560078      917.644806      677.727301       43.986086   \nmin      10039.595640    10949.649590    12217.226860    14463.918930   \n25%      10168.840645    11274.086022    12456.839645    14479.470360   \n50%      10298.085650    11598.522455    12696.452430    14495.021790   \n75%      10427.330655    11922.958888    12936.065215    14510.573220   \nmax      10556.575660    12247.395320    13175.678000    14526.124650   \n\n       gdpPercap_1972  gdpPercap_1977  gdpPercap_1982  gdpPercap_1987  \\\ncount         2.00000        2.000000        2.000000        2.000000   \nmean      16417.33338    17283.957605    18554.709840    20448.040160   \nstd         525.09198     1485.263517     1304.328377     2037.668013   \nmin       16046.03728    16233.717700    17632.410400    19007.191290   \n25%       16231.68533    16758.837652    18093.560120    19727.615725   \n50%       16417.33338    17283.957605    18554.709840    20448.040160   \n75%       16602.98143    17809.077558    19015.859560    21168.464595   \nmax       16788.62948    18334.197510    19477.009280    21888.889030   \n\n       gdpPercap_1992  gdpPercap_1997  gdpPercap_2002  gdpPercap_2007  \ncount        2.000000        2.000000        2.000000        2.000000  \nmean     20894.045885    24024.175170    26938.778040    29810.188275  \nstd       3578.979883     4205.533703     5301.853680     6540.991104  \nmin      18363.324940    21050.413770    23189.801350    25185.009110  \n25%      19628.685412    22537.294470    25064.289695    27497.598692  \n50%      20894.045885    24024.175170    26938.778040    29810.188275  \n75%      22159.406358    25511.055870    28813.266385    32122.777858  \nmax      23424.766830    26997.936570    30687.754730    34435.367440  ",
            "text/html": "<div>\n<style scoped>\n    .dataframe tbody tr th:only-of-type {\n        vertical-align: middle;\n    }\n\n    .dataframe tbody tr th {\n        vertical-align: top;\n    }\n\n    .dataframe thead th {\n        text-align: right;\n    }\n</style>\n<table border=\"1\" class=\"dataframe\">\n  <thead>\n    <tr style=\"text-align: right;\">\n      <th></th>\n      <th>gdpPercap_1952</th>\n      <th>gdpPercap_1957</th>\n      <th>gdpPercap_1962</th>\n      <th>gdpPercap_1967</th>\n      <th>gdpPercap_1972</th>\n      <th>gdpPercap_1977</th>\n      <th>gdpPercap_1982</th>\n      <th>gdpPercap_1987</th>\n      <th>gdpPercap_1992</th>\n      <th>gdpPercap_1997</th>\n      <th>gdpPercap_2002</th>\n      <th>gdpPercap_2007</th>\n    </tr>\n  </thead>\n  <tbody>\n    <tr>\n      <th>count</th>\n      <td>2.000000</td>\n      <td>2.000000</td>\n      <td>2.000000</td>\n      <td>2.000000</td>\n      <td>2.00000</td>\n      <td>2.000000</td>\n      <td>2.000000</td>\n      <td>2.000000</td>\n      <td>2.000000</td>\n      <td>2.000000</td>\n      <td>2.000000</td>\n      <td>2.000000</td>\n    </tr>\n    <tr>\n      <th>mean</th>\n      <td>10298.085650</td>\n      <td>11598.522455</td>\n      <td>12696.452430</td>\n      <td>14495.021790</td>\n      <td>16417.33338</td>\n      <td>17283.957605</td>\n      <td>18554.709840</td>\n      <td>20448.040160</td>\n      <td>20894.045885</td>\n      <td>24024.175170</td>\n      <td>26938.778040</td>\n      <td>29810.188275</td>\n    </tr>\n    <tr>\n      <th>std</th>\n      <td>365.560078</td>\n      <td>917.644806</td>\n      <td>677.727301</td>\n      <td>43.986086</td>\n      <td>525.09198</td>\n      <td>1485.263517</td>\n      <td>1304.328377</td>\n      <td>2037.668013</td>\n      <td>3578.979883</td>\n      <td>4205.533703</td>\n      <td>5301.853680</td>\n      <td>6540.991104</td>\n    </tr>\n    <tr>\n      <th>min</th>\n      <td>10039.595640</td>\n      <td>10949.649590</td>\n      <td>12217.226860</td>\n      <td>14463.918930</td>\n      <td>16046.03728</td>\n      <td>16233.717700</td>\n      <td>17632.410400</td>\n      <td>19007.191290</td>\n      <td>18363.324940</td>\n      <td>21050.413770</td>\n      <td>23189.801350</td>\n      <td>25185.009110</td>\n    </tr>\n    <tr>\n      <th>25%</th>\n      <td>10168.840645</td>\n      <td>11274.086022</td>\n      <td>12456.839645</td>\n      <td>14479.470360</td>\n      <td>16231.68533</td>\n      <td>16758.837652</td>\n      <td>18093.560120</td>\n      <td>19727.615725</td>\n      <td>19628.685412</td>\n      <td>22537.294470</td>\n      <td>25064.289695</td>\n      <td>27497.598692</td>\n    </tr>\n    <tr>\n      <th>50%</th>\n      <td>10298.085650</td>\n      <td>11598.522455</td>\n      <td>12696.452430</td>\n      <td>14495.021790</td>\n      <td>16417.33338</td>\n      <td>17283.957605</td>\n      <td>18554.709840</td>\n      <td>20448.040160</td>\n      <td>20894.045885</td>\n      <td>24024.175170</td>\n      <td>26938.778040</td>\n      <td>29810.188275</td>\n    </tr>\n    <tr>\n      <th>75%</th>\n      <td>10427.330655</td>\n      <td>11922.958888</td>\n      <td>12936.065215</td>\n      <td>14510.573220</td>\n      <td>16602.98143</td>\n      <td>17809.077558</td>\n      <td>19015.859560</td>\n      <td>21168.464595</td>\n      <td>22159.406358</td>\n      <td>25511.055870</td>\n      <td>28813.266385</td>\n      <td>32122.777858</td>\n    </tr>\n    <tr>\n      <th>max</th>\n      <td>10556.575660</td>\n      <td>12247.395320</td>\n      <td>13175.678000</td>\n      <td>14526.124650</td>\n      <td>16788.62948</td>\n      <td>18334.197510</td>\n      <td>19477.009280</td>\n      <td>21888.889030</td>\n      <td>23424.766830</td>\n      <td>26997.936570</td>\n      <td>30687.754730</td>\n      <td>34435.367440</td>\n    </tr>\n  </tbody>\n</table>\n</div>"
          },
          "metadata": {}
        }
      ],
      "execution_count": 9
    },
    {
      "id": "eb7d89a6-1bee-4f53-9a64-c166cf81642f",
      "cell_type": "code",
      "source": "data = pd.read_csv('data/gapminder_gdp_europe.csv', index_col='country')\ndata",
      "metadata": {
        "trusted": true
      },
      "outputs": [
        {
          "execution_count": 11,
          "output_type": "execute_result",
          "data": {
            "text/plain": "                        gdpPercap_1952  gdpPercap_1957  gdpPercap_1962  \\\ncountry                                                                  \nAlbania                    1601.056136     1942.284244     2312.888958   \nAustria                    6137.076492     8842.598030    10750.721110   \nBelgium                    8343.105127     9714.960623    10991.206760   \nBosnia and Herzegovina      973.533195     1353.989176     1709.683679   \nBulgaria                   2444.286648     3008.670727     4254.337839   \nCroatia                    3119.236520     4338.231617     5477.890018   \nCzech Republic             6876.140250     8256.343918    10136.867130   \nDenmark                    9692.385245    11099.659350    13583.313510   \nFinland                    6424.519071     7545.415386     9371.842561   \nFrance                     7029.809327     8662.834898    10560.485530   \nGermany                    7144.114393    10187.826650    12902.462910   \nGreece                     3530.690067     4916.299889     6017.190733   \nHungary                    5263.673816     6040.180011     7550.359877   \nIceland                    7267.688428     9244.001412    10350.159060   \nIreland                    5210.280328     5599.077872     6631.597314   \nItaly                      4931.404155     6248.656232     8243.582340   \nMontenegro                 2647.585601     3682.259903     4649.593785   \nNetherlands                8941.571858    11276.193440    12790.849560   \nNorway                    10095.421720    11653.973040    13450.401510   \nPoland                     4029.329699     4734.253019     5338.752143   \nPortugal                   3068.319867     3774.571743     4727.954889   \nRomania                    3144.613186     3943.370225     4734.997586   \nSerbia                     3581.459448     4981.090891     6289.629157   \nSlovak Republic            5074.659104     6093.262980     7481.107598   \nSlovenia                   4215.041741     5862.276629     7402.303395   \nSpain                      3834.034742     4564.802410     5693.843879   \nSweden                     8527.844662     9911.878226    12329.441920   \nSwitzerland               14734.232750    17909.489730    20431.092700   \nTurkey                     1969.100980     2218.754257     2322.869908   \nUnited Kingdom             9979.508487    11283.177950    12477.177070   \n\n                        gdpPercap_1967  gdpPercap_1972  gdpPercap_1977  \\\ncountry                                                                  \nAlbania                    2760.196931     3313.422188     3533.003910   \nAustria                   12834.602400    16661.625600    19749.422300   \nBelgium                   13149.041190    16672.143560    19117.974480   \nBosnia and Herzegovina     2172.352423     2860.169750     3528.481305   \nBulgaria                   5577.002800     6597.494398     7612.240438   \nCroatia                    6960.297861     9164.090127    11305.385170   \nCzech Republic            11399.444890    13108.453600    14800.160620   \nDenmark                   15937.211230    18866.207210    20422.901500   \nFinland                   10921.636260    14358.875900    15605.422830   \nFrance                    12999.917660    16107.191710    18292.635140   \nGermany                   14745.625610    18016.180270    20512.921230   \nGreece                     8513.097016    12724.829570    14195.524280   \nHungary                    9326.644670    10168.656110    11674.837370   \nIceland                   13319.895680    15798.063620    19654.962470   \nIreland                    7655.568963     9530.772896    11150.981130   \nItaly                     10022.401310    12269.273780    14255.984750   \nMontenegro                 5907.850937     7778.414017     9595.929905   \nNetherlands               15363.251360    18794.745670    21209.059200   \nNorway                    16361.876470    18965.055510    23311.349390   \nPoland                     6557.152776     8006.506993     9508.141454   \nPortugal                   6361.517993     9022.247417    10172.485720   \nRomania                    6470.866545     8011.414402     9356.397240   \nSerbia                     7991.707066    10522.067490    12980.669560   \nSlovak Republic            8412.902397     9674.167626    10922.664040   \nSlovenia                   9405.489397    12383.486200    15277.030170   \nSpain                      7993.512294    10638.751310    13236.921170   \nSweden                    15258.296970    17832.024640    18855.725210   \nSwitzerland               22966.144320    27195.113040    26982.290520   \nTurkey                     2826.356387     3450.696380     4269.122326   \nUnited Kingdom            14142.850890    15895.116410    17428.748460   \n\n                        gdpPercap_1982  gdpPercap_1987  gdpPercap_1992  \\\ncountry                                                                  \nAlbania                    3630.880722     3738.932735     2497.437901   \nAustria                   21597.083620    23687.826070    27042.018680   \nBelgium                   20979.845890    22525.563080    25575.570690   \nBosnia and Herzegovina     4126.613157     4314.114757     2546.781445   \nBulgaria                   8224.191647     8239.854824     6302.623438   \nCroatia                   13221.821840    13822.583940     8447.794873   \nCzech Republic            15377.228550    16310.443400    14297.021220   \nDenmark                   21688.040480    25116.175810    26406.739850   \nFinland                   18533.157610    21141.012230    20647.164990   \nFrance                    20293.897460    22066.442140    24703.796150   \nGermany                   22031.532740    24639.185660    26505.303170   \nGreece                    15268.420890    16120.528390    17541.496340   \nHungary                   12545.990660    12986.479980    10535.628550   \nIceland                   23269.607500    26923.206280    25144.392010   \nIreland                   12618.321410    13872.866520    17558.815550   \nItaly                     16537.483500    19207.234820    22013.644860   \nMontenegro                11222.587620    11732.510170     7003.339037   \nNetherlands               21399.460460    23651.323610    26790.949610   \nNorway                    26298.635310    31540.974800    33965.661150   \nPoland                     8451.531004     9082.351172     7738.881247   \nPortugal                  11753.842910    13039.308760    16207.266630   \nRomania                    9605.314053     9696.273295     6598.409903   \nSerbia                    15181.092700    15870.878510     9325.068238   \nSlovak Republic           11348.545850    12037.267580     9498.467723   \nSlovenia                  17866.721750    18678.534920    14214.716810   \nSpain                     13926.169970    15764.983130    18603.064520   \nSweden                    20667.381250    23586.929270    23880.016830   \nSwitzerland               28397.715120    30281.704590    31871.530300   \nTurkey                     4241.356344     5089.043686     5678.348271   \nUnited Kingdom            18232.424520    21664.787670    22705.092540   \n\n                        gdpPercap_1997  gdpPercap_2002  gdpPercap_2007  \ncountry                                                                 \nAlbania                    3193.054604     4604.211737     5937.029526  \nAustria                   29095.920660    32417.607690    36126.492700  \nBelgium                   27561.196630    30485.883750    33692.605080  \nBosnia and Herzegovina     4766.355904     6018.975239     7446.298803  \nBulgaria                   5970.388760     7696.777725    10680.792820  \nCroatia                    9875.604515    11628.388950    14619.222720  \nCzech Republic            16048.514240    17596.210220    22833.308510  \nDenmark                   29804.345670    32166.500060    35278.418740  \nFinland                   23723.950200    28204.590570    33207.084400  \nFrance                    25889.784870    28926.032340    30470.016700  \nGermany                   27788.884160    30035.801980    32170.374420  \nGreece                    18747.698140    22514.254800    27538.411880  \nHungary                   11712.776800    14843.935560    18008.944440  \nIceland                   28061.099660    31163.201960    36180.789190  \nIreland                   24521.947130    34077.049390    40675.996350  \nItaly                     24675.024460    27968.098170    28569.719700  \nMontenegro                 6465.613349     6557.194282     9253.896111  \nNetherlands               30246.130630    33724.757780    36797.933320  \nNorway                    41283.164330    44683.975250    49357.190170  \nPoland                    10159.583680    12002.239080    15389.924680  \nPortugal                  17641.031560    19970.907870    20509.647770  \nRomania                    7346.547557     7885.360081    10808.475610  \nSerbia                     7914.320304     7236.075251     9786.534714  \nSlovak Republic           12126.230650    13638.778370    18678.314350  \nSlovenia                  17161.107350    20660.019360    25768.257590  \nSpain                     20445.298960    24835.471660    28821.063700  \nSweden                    25266.594990    29341.630930    33859.748350  \nSwitzerland               32135.323010    34480.957710    37506.419070  \nTurkey                     6601.429915     6508.085718     8458.276384  \nUnited Kingdom            26074.531360    29478.999190    33203.261280  ",
            "text/html": "<div>\n<style scoped>\n    .dataframe tbody tr th:only-of-type {\n        vertical-align: middle;\n    }\n\n    .dataframe tbody tr th {\n        vertical-align: top;\n    }\n\n    .dataframe thead th {\n        text-align: right;\n    }\n</style>\n<table border=\"1\" class=\"dataframe\">\n  <thead>\n    <tr style=\"text-align: right;\">\n      <th></th>\n      <th>gdpPercap_1952</th>\n      <th>gdpPercap_1957</th>\n      <th>gdpPercap_1962</th>\n      <th>gdpPercap_1967</th>\n      <th>gdpPercap_1972</th>\n      <th>gdpPercap_1977</th>\n      <th>gdpPercap_1982</th>\n      <th>gdpPercap_1987</th>\n      <th>gdpPercap_1992</th>\n      <th>gdpPercap_1997</th>\n      <th>gdpPercap_2002</th>\n      <th>gdpPercap_2007</th>\n    </tr>\n    <tr>\n      <th>country</th>\n      <th></th>\n      <th></th>\n      <th></th>\n      <th></th>\n      <th></th>\n      <th></th>\n      <th></th>\n      <th></th>\n      <th></th>\n      <th></th>\n      <th></th>\n      <th></th>\n    </tr>\n  </thead>\n  <tbody>\n    <tr>\n      <th>Albania</th>\n      <td>1601.056136</td>\n      <td>1942.284244</td>\n      <td>2312.888958</td>\n      <td>2760.196931</td>\n      <td>3313.422188</td>\n      <td>3533.003910</td>\n      <td>3630.880722</td>\n      <td>3738.932735</td>\n      <td>2497.437901</td>\n      <td>3193.054604</td>\n      <td>4604.211737</td>\n      <td>5937.029526</td>\n    </tr>\n    <tr>\n      <th>Austria</th>\n      <td>6137.076492</td>\n      <td>8842.598030</td>\n      <td>10750.721110</td>\n      <td>12834.602400</td>\n      <td>16661.625600</td>\n      <td>19749.422300</td>\n      <td>21597.083620</td>\n      <td>23687.826070</td>\n      <td>27042.018680</td>\n      <td>29095.920660</td>\n      <td>32417.607690</td>\n      <td>36126.492700</td>\n    </tr>\n    <tr>\n      <th>Belgium</th>\n      <td>8343.105127</td>\n      <td>9714.960623</td>\n      <td>10991.206760</td>\n      <td>13149.041190</td>\n      <td>16672.143560</td>\n      <td>19117.974480</td>\n      <td>20979.845890</td>\n      <td>22525.563080</td>\n      <td>25575.570690</td>\n      <td>27561.196630</td>\n      <td>30485.883750</td>\n      <td>33692.605080</td>\n    </tr>\n    <tr>\n      <th>Bosnia and Herzegovina</th>\n      <td>973.533195</td>\n      <td>1353.989176</td>\n      <td>1709.683679</td>\n      <td>2172.352423</td>\n      <td>2860.169750</td>\n      <td>3528.481305</td>\n      <td>4126.613157</td>\n      <td>4314.114757</td>\n      <td>2546.781445</td>\n      <td>4766.355904</td>\n      <td>6018.975239</td>\n      <td>7446.298803</td>\n    </tr>\n    <tr>\n      <th>Bulgaria</th>\n      <td>2444.286648</td>\n      <td>3008.670727</td>\n      <td>4254.337839</td>\n      <td>5577.002800</td>\n      <td>6597.494398</td>\n      <td>7612.240438</td>\n      <td>8224.191647</td>\n      <td>8239.854824</td>\n      <td>6302.623438</td>\n      <td>5970.388760</td>\n      <td>7696.777725</td>\n      <td>10680.792820</td>\n    </tr>\n    <tr>\n      <th>Croatia</th>\n      <td>3119.236520</td>\n      <td>4338.231617</td>\n      <td>5477.890018</td>\n      <td>6960.297861</td>\n      <td>9164.090127</td>\n      <td>11305.385170</td>\n      <td>13221.821840</td>\n      <td>13822.583940</td>\n      <td>8447.794873</td>\n      <td>9875.604515</td>\n      <td>11628.388950</td>\n      <td>14619.222720</td>\n    </tr>\n    <tr>\n      <th>Czech Republic</th>\n      <td>6876.140250</td>\n      <td>8256.343918</td>\n      <td>10136.867130</td>\n      <td>11399.444890</td>\n      <td>13108.453600</td>\n      <td>14800.160620</td>\n      <td>15377.228550</td>\n      <td>16310.443400</td>\n      <td>14297.021220</td>\n      <td>16048.514240</td>\n      <td>17596.210220</td>\n      <td>22833.308510</td>\n    </tr>\n    <tr>\n      <th>Denmark</th>\n      <td>9692.385245</td>\n      <td>11099.659350</td>\n      <td>13583.313510</td>\n      <td>15937.211230</td>\n      <td>18866.207210</td>\n      <td>20422.901500</td>\n      <td>21688.040480</td>\n      <td>25116.175810</td>\n      <td>26406.739850</td>\n      <td>29804.345670</td>\n      <td>32166.500060</td>\n      <td>35278.418740</td>\n    </tr>\n    <tr>\n      <th>Finland</th>\n      <td>6424.519071</td>\n      <td>7545.415386</td>\n      <td>9371.842561</td>\n      <td>10921.636260</td>\n      <td>14358.875900</td>\n      <td>15605.422830</td>\n      <td>18533.157610</td>\n      <td>21141.012230</td>\n      <td>20647.164990</td>\n      <td>23723.950200</td>\n      <td>28204.590570</td>\n      <td>33207.084400</td>\n    </tr>\n    <tr>\n      <th>France</th>\n      <td>7029.809327</td>\n      <td>8662.834898</td>\n      <td>10560.485530</td>\n      <td>12999.917660</td>\n      <td>16107.191710</td>\n      <td>18292.635140</td>\n      <td>20293.897460</td>\n      <td>22066.442140</td>\n      <td>24703.796150</td>\n      <td>25889.784870</td>\n      <td>28926.032340</td>\n      <td>30470.016700</td>\n    </tr>\n    <tr>\n      <th>Germany</th>\n      <td>7144.114393</td>\n      <td>10187.826650</td>\n      <td>12902.462910</td>\n      <td>14745.625610</td>\n      <td>18016.180270</td>\n      <td>20512.921230</td>\n      <td>22031.532740</td>\n      <td>24639.185660</td>\n      <td>26505.303170</td>\n      <td>27788.884160</td>\n      <td>30035.801980</td>\n      <td>32170.374420</td>\n    </tr>\n    <tr>\n      <th>Greece</th>\n      <td>3530.690067</td>\n      <td>4916.299889</td>\n      <td>6017.190733</td>\n      <td>8513.097016</td>\n      <td>12724.829570</td>\n      <td>14195.524280</td>\n      <td>15268.420890</td>\n      <td>16120.528390</td>\n      <td>17541.496340</td>\n      <td>18747.698140</td>\n      <td>22514.254800</td>\n      <td>27538.411880</td>\n    </tr>\n    <tr>\n      <th>Hungary</th>\n      <td>5263.673816</td>\n      <td>6040.180011</td>\n      <td>7550.359877</td>\n      <td>9326.644670</td>\n      <td>10168.656110</td>\n      <td>11674.837370</td>\n      <td>12545.990660</td>\n      <td>12986.479980</td>\n      <td>10535.628550</td>\n      <td>11712.776800</td>\n      <td>14843.935560</td>\n      <td>18008.944440</td>\n    </tr>\n    <tr>\n      <th>Iceland</th>\n      <td>7267.688428</td>\n      <td>9244.001412</td>\n      <td>10350.159060</td>\n      <td>13319.895680</td>\n      <td>15798.063620</td>\n      <td>19654.962470</td>\n      <td>23269.607500</td>\n      <td>26923.206280</td>\n      <td>25144.392010</td>\n      <td>28061.099660</td>\n      <td>31163.201960</td>\n      <td>36180.789190</td>\n    </tr>\n    <tr>\n      <th>Ireland</th>\n      <td>5210.280328</td>\n      <td>5599.077872</td>\n      <td>6631.597314</td>\n      <td>7655.568963</td>\n      <td>9530.772896</td>\n      <td>11150.981130</td>\n      <td>12618.321410</td>\n      <td>13872.866520</td>\n      <td>17558.815550</td>\n      <td>24521.947130</td>\n      <td>34077.049390</td>\n      <td>40675.996350</td>\n    </tr>\n    <tr>\n      <th>Italy</th>\n      <td>4931.404155</td>\n      <td>6248.656232</td>\n      <td>8243.582340</td>\n      <td>10022.401310</td>\n      <td>12269.273780</td>\n      <td>14255.984750</td>\n      <td>16537.483500</td>\n      <td>19207.234820</td>\n      <td>22013.644860</td>\n      <td>24675.024460</td>\n      <td>27968.098170</td>\n      <td>28569.719700</td>\n    </tr>\n    <tr>\n      <th>Montenegro</th>\n      <td>2647.585601</td>\n      <td>3682.259903</td>\n      <td>4649.593785</td>\n      <td>5907.850937</td>\n      <td>7778.414017</td>\n      <td>9595.929905</td>\n      <td>11222.587620</td>\n      <td>11732.510170</td>\n      <td>7003.339037</td>\n      <td>6465.613349</td>\n      <td>6557.194282</td>\n      <td>9253.896111</td>\n    </tr>\n    <tr>\n      <th>Netherlands</th>\n      <td>8941.571858</td>\n      <td>11276.193440</td>\n      <td>12790.849560</td>\n      <td>15363.251360</td>\n      <td>18794.745670</td>\n      <td>21209.059200</td>\n      <td>21399.460460</td>\n      <td>23651.323610</td>\n      <td>26790.949610</td>\n      <td>30246.130630</td>\n      <td>33724.757780</td>\n      <td>36797.933320</td>\n    </tr>\n    <tr>\n      <th>Norway</th>\n      <td>10095.421720</td>\n      <td>11653.973040</td>\n      <td>13450.401510</td>\n      <td>16361.876470</td>\n      <td>18965.055510</td>\n      <td>23311.349390</td>\n      <td>26298.635310</td>\n      <td>31540.974800</td>\n      <td>33965.661150</td>\n      <td>41283.164330</td>\n      <td>44683.975250</td>\n      <td>49357.190170</td>\n    </tr>\n    <tr>\n      <th>Poland</th>\n      <td>4029.329699</td>\n      <td>4734.253019</td>\n      <td>5338.752143</td>\n      <td>6557.152776</td>\n      <td>8006.506993</td>\n      <td>9508.141454</td>\n      <td>8451.531004</td>\n      <td>9082.351172</td>\n      <td>7738.881247</td>\n      <td>10159.583680</td>\n      <td>12002.239080</td>\n      <td>15389.924680</td>\n    </tr>\n    <tr>\n      <th>Portugal</th>\n      <td>3068.319867</td>\n      <td>3774.571743</td>\n      <td>4727.954889</td>\n      <td>6361.517993</td>\n      <td>9022.247417</td>\n      <td>10172.485720</td>\n      <td>11753.842910</td>\n      <td>13039.308760</td>\n      <td>16207.266630</td>\n      <td>17641.031560</td>\n      <td>19970.907870</td>\n      <td>20509.647770</td>\n    </tr>\n    <tr>\n      <th>Romania</th>\n      <td>3144.613186</td>\n      <td>3943.370225</td>\n      <td>4734.997586</td>\n      <td>6470.866545</td>\n      <td>8011.414402</td>\n      <td>9356.397240</td>\n      <td>9605.314053</td>\n      <td>9696.273295</td>\n      <td>6598.409903</td>\n      <td>7346.547557</td>\n      <td>7885.360081</td>\n      <td>10808.475610</td>\n    </tr>\n    <tr>\n      <th>Serbia</th>\n      <td>3581.459448</td>\n      <td>4981.090891</td>\n      <td>6289.629157</td>\n      <td>7991.707066</td>\n      <td>10522.067490</td>\n      <td>12980.669560</td>\n      <td>15181.092700</td>\n      <td>15870.878510</td>\n      <td>9325.068238</td>\n      <td>7914.320304</td>\n      <td>7236.075251</td>\n      <td>9786.534714</td>\n    </tr>\n    <tr>\n      <th>Slovak Republic</th>\n      <td>5074.659104</td>\n      <td>6093.262980</td>\n      <td>7481.107598</td>\n      <td>8412.902397</td>\n      <td>9674.167626</td>\n      <td>10922.664040</td>\n      <td>11348.545850</td>\n      <td>12037.267580</td>\n      <td>9498.467723</td>\n      <td>12126.230650</td>\n      <td>13638.778370</td>\n      <td>18678.314350</td>\n    </tr>\n    <tr>\n      <th>Slovenia</th>\n      <td>4215.041741</td>\n      <td>5862.276629</td>\n      <td>7402.303395</td>\n      <td>9405.489397</td>\n      <td>12383.486200</td>\n      <td>15277.030170</td>\n      <td>17866.721750</td>\n      <td>18678.534920</td>\n      <td>14214.716810</td>\n      <td>17161.107350</td>\n      <td>20660.019360</td>\n      <td>25768.257590</td>\n    </tr>\n    <tr>\n      <th>Spain</th>\n      <td>3834.034742</td>\n      <td>4564.802410</td>\n      <td>5693.843879</td>\n      <td>7993.512294</td>\n      <td>10638.751310</td>\n      <td>13236.921170</td>\n      <td>13926.169970</td>\n      <td>15764.983130</td>\n      <td>18603.064520</td>\n      <td>20445.298960</td>\n      <td>24835.471660</td>\n      <td>28821.063700</td>\n    </tr>\n    <tr>\n      <th>Sweden</th>\n      <td>8527.844662</td>\n      <td>9911.878226</td>\n      <td>12329.441920</td>\n      <td>15258.296970</td>\n      <td>17832.024640</td>\n      <td>18855.725210</td>\n      <td>20667.381250</td>\n      <td>23586.929270</td>\n      <td>23880.016830</td>\n      <td>25266.594990</td>\n      <td>29341.630930</td>\n      <td>33859.748350</td>\n    </tr>\n    <tr>\n      <th>Switzerland</th>\n      <td>14734.232750</td>\n      <td>17909.489730</td>\n      <td>20431.092700</td>\n      <td>22966.144320</td>\n      <td>27195.113040</td>\n      <td>26982.290520</td>\n      <td>28397.715120</td>\n      <td>30281.704590</td>\n      <td>31871.530300</td>\n      <td>32135.323010</td>\n      <td>34480.957710</td>\n      <td>37506.419070</td>\n    </tr>\n    <tr>\n      <th>Turkey</th>\n      <td>1969.100980</td>\n      <td>2218.754257</td>\n      <td>2322.869908</td>\n      <td>2826.356387</td>\n      <td>3450.696380</td>\n      <td>4269.122326</td>\n      <td>4241.356344</td>\n      <td>5089.043686</td>\n      <td>5678.348271</td>\n      <td>6601.429915</td>\n      <td>6508.085718</td>\n      <td>8458.276384</td>\n    </tr>\n    <tr>\n      <th>United Kingdom</th>\n      <td>9979.508487</td>\n      <td>11283.177950</td>\n      <td>12477.177070</td>\n      <td>14142.850890</td>\n      <td>15895.116410</td>\n      <td>17428.748460</td>\n      <td>18232.424520</td>\n      <td>21664.787670</td>\n      <td>22705.092540</td>\n      <td>26074.531360</td>\n      <td>29478.999190</td>\n      <td>33203.261280</td>\n    </tr>\n  </tbody>\n</table>\n</div>"
          },
          "metadata": {}
        }
      ],
      "execution_count": 11
    },
    {
      "id": "0d59f014-abb4-4b2b-ab2c-88cee01e80ad",
      "cell_type": "code",
      "source": "print(data.iloc[0, 0])",
      "metadata": {
        "trusted": true
      },
      "outputs": [
        {
          "name": "stdout",
          "output_type": "stream",
          "text": "1601.056136\n"
        }
      ],
      "execution_count": 13
    },
    {
      "id": "5633eb6e-82b3-4619-a093-ebb6e0a45040",
      "cell_type": "code",
      "source": "print(data.loc[\"Albania\", \"gdpPercap_1952\"])",
      "metadata": {
        "trusted": true
      },
      "outputs": [
        {
          "name": "stdout",
          "output_type": "stream",
          "text": "1601.056136\n"
        }
      ],
      "execution_count": 14
    },
    {
      "id": "162135b4-7460-44d1-9673-a3d787d620af",
      "cell_type": "code",
      "source": "print(data.loc[\"Albania\", :])",
      "metadata": {
        "trusted": true
      },
      "outputs": [
        {
          "name": "stdout",
          "output_type": "stream",
          "text": "gdpPercap_1952    1601.056136\ngdpPercap_1957    1942.284244\ngdpPercap_1962    2312.888958\ngdpPercap_1967    2760.196931\ngdpPercap_1972    3313.422188\ngdpPercap_1977    3533.003910\ngdpPercap_1982    3630.880722\ngdpPercap_1987    3738.932735\ngdpPercap_1992    2497.437901\ngdpPercap_1997    3193.054604\ngdpPercap_2002    4604.211737\ngdpPercap_2007    5937.029526\nName: Albania, dtype: float64\n"
        }
      ],
      "execution_count": 15
    },
    {
      "id": "49aa17ae-bd49-4f7c-8ac3-176bf5ef1414",
      "cell_type": "code",
      "source": "print(data.loc[:, \"gdpPercap_1952\"])",
      "metadata": {
        "trusted": true
      },
      "outputs": [
        {
          "name": "stdout",
          "output_type": "stream",
          "text": "country\nAlbania                    1601.056136\nAustria                    6137.076492\nBelgium                    8343.105127\nBosnia and Herzegovina      973.533195\nBulgaria                   2444.286648\nCroatia                    3119.236520\nCzech Republic             6876.140250\nDenmark                    9692.385245\nFinland                    6424.519071\nFrance                     7029.809327\nGermany                    7144.114393\nGreece                     3530.690067\nHungary                    5263.673816\nIceland                    7267.688428\nIreland                    5210.280328\nItaly                      4931.404155\nMontenegro                 2647.585601\nNetherlands                8941.571858\nNorway                    10095.421720\nPoland                     4029.329699\nPortugal                   3068.319867\nRomania                    3144.613186\nSerbia                     3581.459448\nSlovak Republic            5074.659104\nSlovenia                   4215.041741\nSpain                      3834.034742\nSweden                     8527.844662\nSwitzerland               14734.232750\nTurkey                     1969.100980\nUnited Kingdom             9979.508487\nName: gdpPercap_1952, dtype: float64\n"
        }
      ],
      "execution_count": 16
    },
    {
      "id": "e560efd2-c1b3-49c5-9e70-aba6a0b2a48a",
      "cell_type": "code",
      "source": "print(data.loc['Italy':'Poland', 'gdpPercap_1962':'gdpPercap_1972'])",
      "metadata": {
        "trusted": true
      },
      "outputs": [
        {
          "name": "stdout",
          "output_type": "stream",
          "text": "             gdpPercap_1962  gdpPercap_1967  gdpPercap_1972\ncountry                                                    \nItaly           8243.582340    10022.401310    12269.273780\nMontenegro      4649.593785     5907.850937     7778.414017\nNetherlands    12790.849560    15363.251360    18794.745670\nNorway         13450.401510    16361.876470    18965.055510\nPoland          5338.752143     6557.152776     8006.506993\n"
        }
      ],
      "execution_count": 17
    },
    {
      "id": "2ec96d81-5751-4137-aad0-19f448e2d550",
      "cell_type": "code",
      "source": "print(data.loc['Italy':'Poland', 'gdpPercap_1962':'gdpPercap_1972'].max())",
      "metadata": {
        "trusted": true
      },
      "outputs": [
        {
          "name": "stdout",
          "output_type": "stream",
          "text": "gdpPercap_1962    13450.40151\ngdpPercap_1967    16361.87647\ngdpPercap_1972    18965.05551\ndtype: float64\n"
        }
      ],
      "execution_count": 18
    },
    {
      "id": "8c98287c-5868-4e10-96b1-4406a17c77b5",
      "cell_type": "code",
      "source": "print(data.loc['Italy':'Poland', 'gdpPercap_1962':'gdpPercap_1972'].min())",
      "metadata": {
        "trusted": true
      },
      "outputs": [
        {
          "name": "stdout",
          "output_type": "stream",
          "text": "gdpPercap_1962    4649.593785\ngdpPercap_1967    5907.850937\ngdpPercap_1972    7778.414017\ndtype: float64\n"
        }
      ],
      "execution_count": 19
    },
    {
      "id": "df199bd0-2f7e-4080-9c96-887166f7d0b2",
      "cell_type": "code",
      "source": "# Use a subset of data to keep output readable.\nsubset = data.loc['Italy':'Poland', 'gdpPercap_1962':'gdpPercap_1972']\nprint('Subset of data:\\n', subset)\n\n# Which values were greater than 10000 ?\nprint('\\nWhere are values large?\\n', subset > 10000)\n\nmask = subset > 10000\nprint('\\nRemove the values less than 10001', subset[mask])",
      "metadata": {
        "trusted": true
      },
      "outputs": [
        {
          "name": "stdout",
          "output_type": "stream",
          "text": "Subset of data:\n              gdpPercap_1962  gdpPercap_1967  gdpPercap_1972\ncountry                                                    \nItaly           8243.582340    10022.401310    12269.273780\nMontenegro      4649.593785     5907.850937     7778.414017\nNetherlands    12790.849560    15363.251360    18794.745670\nNorway         13450.401510    16361.876470    18965.055510\nPoland          5338.752143     6557.152776     8006.506993\n\nWhere are values large?\n              gdpPercap_1962  gdpPercap_1967  gdpPercap_1972\ncountry                                                    \nItaly                 False            True            True\nMontenegro            False           False           False\nNetherlands            True            True            True\nNorway                 True            True            True\nPoland                False           False           False\n             gdpPercap_1962  gdpPercap_1967  gdpPercap_1972\ncountry                                                    \nItaly                   NaN     10022.40131     12269.27378\nMontenegro              NaN             NaN             NaN\nNetherlands     12790.84956     15363.25136     18794.74567\nNorway          13450.40151     16361.87647     18965.05551\nPoland                  NaN             NaN             NaN\n"
        }
      ],
      "execution_count": 21
    },
    {
      "id": "f4d26b83-5485-414c-8cc6-d53eed9d9a53",
      "cell_type": "code",
      "source": "print(subset[subset > 10000].describe())",
      "metadata": {
        "trusted": true
      },
      "outputs": [
        {
          "name": "stdout",
          "output_type": "stream",
          "text": "       gdpPercap_1962  gdpPercap_1967  gdpPercap_1972\ncount        2.000000        3.000000        3.000000\nmean     13120.625535    13915.843047    16676.358320\nstd        466.373656     3408.589070     3817.597015\nmin      12790.849560    10022.401310    12269.273780\n25%      12955.737548    12692.826335    15532.009725\n50%      13120.625535    15363.251360    18794.745670\n75%      13285.513522    15862.563915    18879.900590\nmax      13450.401510    16361.876470    18965.055510\n"
        }
      ],
      "execution_count": 22
    },
    {
      "id": "af157b51-8714-4ee7-b285-e1ca68312ccd",
      "cell_type": "code",
      "source": "mask_higher = data > data.mean()\n#print(mask_higher)\nwealth_score = mask_higher.aggregate('sum', axis=1) / len(data.columns) # normalization\nprint(wealth_score)",
      "metadata": {
        "trusted": true,
        "scrolled": true
      },
      "outputs": [
        {
          "name": "stdout",
          "output_type": "stream",
          "text": "country\nAlbania                   0.000000\nAustria                   1.000000\nBelgium                   1.000000\nBosnia and Herzegovina    0.000000\nBulgaria                  0.000000\nCroatia                   0.000000\nCzech Republic            0.500000\nDenmark                   1.000000\nFinland                   1.000000\nFrance                    1.000000\nGermany                   1.000000\nGreece                    0.333333\nHungary                   0.000000\nIceland                   1.000000\nIreland                   0.333333\nItaly                     0.500000\nMontenegro                0.000000\nNetherlands               1.000000\nNorway                    1.000000\nPoland                    0.000000\nPortugal                  0.000000\nRomania                   0.000000\nSerbia                    0.000000\nSlovak Republic           0.000000\nSlovenia                  0.333333\nSpain                     0.333333\nSweden                    1.000000\nSwitzerland               1.000000\nTurkey                    0.000000\nUnited Kingdom            1.000000\ndtype: float64\n"
        }
      ],
      "execution_count": 25
    },
    {
      "id": "0a8eed1e-e5e6-4716-9246-c08779b100d0",
      "cell_type": "code",
      "source": "#help(data.aggregate)\n#data.aggregate??",
      "metadata": {
        "trusted": true,
        "scrolled": true
      },
      "outputs": [
        {
          "name": "stdout",
          "output_type": "stream",
          "text": "Help on method aggregate in module pandas.core.frame:\n\naggregate(func=None, axis: 'Axis' = 0, *args, **kwargs) method of pandas.core.frame.DataFrame instance\n    Aggregate using one or more operations over the specified axis.\n\n    Parameters\n    ----------\n    func : function, str, list or dict\n        Function to use for aggregating the data. If a function, must either\n        work when passed a DataFrame or when passed to DataFrame.apply.\n\n        Accepted combinations are:\n\n        - function\n        - string function name\n        - list of functions and/or function names, e.g. ``[np.sum, 'mean']``\n        - dict of axis labels -> functions, function names or list of such.\n    axis : {0 or 'index', 1 or 'columns'}, default 0\n            If 0 or 'index': apply function to each column.\n            If 1 or 'columns': apply function to each row.\n    *args\n        Positional arguments to pass to `func`.\n    **kwargs\n        Keyword arguments to pass to `func`.\n\n    Returns\n    -------\n    scalar, Series or DataFrame\n\n        The return can be:\n\n        * scalar : when Series.agg is called with single function\n        * Series : when DataFrame.agg is called with a single function\n        * DataFrame : when DataFrame.agg is called with several functions\n\n    See Also\n    --------\n    DataFrame.apply : Perform any type of operations.\n    DataFrame.transform : Perform transformation type operations.\n    pandas.DataFrame.groupby : Perform operations over groups.\n    pandas.DataFrame.resample : Perform operations over resampled bins.\n    pandas.DataFrame.rolling : Perform operations over rolling window.\n    pandas.DataFrame.expanding : Perform operations over expanding window.\n    pandas.core.window.ewm.ExponentialMovingWindow : Perform operation over exponential\n        weighted window.\n\n    Notes\n    -----\n    The aggregation operations are always performed over an axis, either the\n    index (default) or the column axis. This behavior is different from\n    `numpy` aggregation functions (`mean`, `median`, `prod`, `sum`, `std`,\n    `var`), where the default is to compute the aggregation of the flattened\n    array, e.g., ``numpy.mean(arr_2d)`` as opposed to\n    ``numpy.mean(arr_2d, axis=0)``.\n\n    `agg` is an alias for `aggregate`. Use the alias.\n\n    Functions that mutate the passed object can produce unexpected\n    behavior or errors and are not supported. See :ref:`gotchas.udf-mutation`\n    for more details.\n\n    A passed user-defined-function will be passed a Series for evaluation.\n\n    Examples\n    --------\n    >>> df = pd.DataFrame([[1, 2, 3],\n    ...                    [4, 5, 6],\n    ...                    [7, 8, 9],\n    ...                    [np.nan, np.nan, np.nan]],\n    ...                   columns=['A', 'B', 'C'])\n\n    Aggregate these functions over the rows.\n\n    >>> df.agg(['sum', 'min'])\n            A     B     C\n    sum  12.0  15.0  18.0\n    min   1.0   2.0   3.0\n\n    Different aggregations per column.\n\n    >>> df.agg({'A' : ['sum', 'min'], 'B' : ['min', 'max']})\n            A    B\n    sum  12.0  NaN\n    min   1.0  2.0\n    max   NaN  8.0\n\n    Aggregate different functions over the columns and rename the index of the resulting\n    DataFrame.\n\n    >>> df.agg(x=('A', 'max'), y=('B', 'min'), z=('C', 'mean'))\n         A    B    C\n    x  7.0  NaN  NaN\n    y  NaN  2.0  NaN\n    z  NaN  NaN  6.0\n\n    Aggregate over the columns.\n\n    >>> df.agg(\"mean\", axis=\"columns\")\n    0    2.0\n    1    5.0\n    2    8.0\n    3    NaN\n    dtype: float64\n\n"
        }
      ],
      "execution_count": 33
    },
    {
      "id": "c0e459f3-affb-4fd0-82f0-5a0f66caf278",
      "cell_type": "code",
      "source": "print(data.groupby(wealth_score).sum())",
      "metadata": {
        "trusted": true
      },
      "outputs": [
        {
          "name": "stdout",
          "output_type": "stream",
          "text": "          gdpPercap_1952  gdpPercap_1957  gdpPercap_1962  gdpPercap_1967  \\\n0.000000    36916.854200    46110.918793    56850.065437    71324.848786   \n0.333333    16790.046878    20942.456800    25744.935321    33567.667670   \n0.500000    11807.544405    14505.000150    18380.449470    21421.846200   \n1.000000   104317.277560   127332.008735   149989.154201   178000.350040   \n\n          gdpPercap_1972  gdpPercap_1977  gdpPercap_1982  gdpPercap_1987  \\\n0.000000    88569.346898   104459.358438   113553.768507   119649.599409   \n0.333333    45277.839976    53860.456750    59679.634020    64436.912960   \n0.500000    25377.727380    29056.145370    31914.712050    35517.678220   \n1.000000   215162.343140   241143.412730   263388.781960   296825.131210   \n\n          gdpPercap_1992  gdpPercap_1997  gdpPercap_2002  gdpPercap_2007  \n0.000000    92380.047256   103772.937598   118590.929863   149577.357928  \n0.333333    67918.093220    80876.051580   102086.795210   122803.729520  \n0.500000    36310.666080    40723.538700    45564.308390    51403.028210  \n1.000000   315238.235970   346930.926170   385109.939210   427850.333420  \n"
        }
      ],
      "execution_count": 34
    },
    {
      "id": "8bcf5c5c-b3e1-496a-8649-5550bb3d4727",
      "cell_type": "code",
      "source": "",
      "metadata": {
        "trusted": true
      },
      "outputs": [],
      "execution_count": null
    }
  ]
}