{
 "cells": [
  {
   "cell_type": "code",
   "execution_count": 1,
   "id": "8fa4d3dd-583e-4068-8be6-8031e0b16e3b",
   "metadata": {},
   "outputs": [
    {
     "name": "stdout",
     "output_type": "stream",
     "text": [
      "before\n",
      "\n",
      "after\n"
     ]
    }
   ],
   "source": [
    "print('before')\n",
    "print()\n",
    "print('after')"
   ]
  },
  {
   "cell_type": "code",
   "execution_count": 2,
   "id": "6ed73e5c-1a42-4009-94b6-f6dcd459f07d",
   "metadata": {},
   "outputs": [
    {
     "name": "stdout",
     "output_type": "stream",
     "text": [
      "before\n",
      " \n",
      "after\n"
     ]
    }
   ],
   "source": [
    "# Notice that we can create the same output with a single command\n",
    "# that took three commands previously.\n",
    "\n",
    "print('before', ' ', 'after', sep = '\\n') # Here I am combining the three\n",
    "                                          # positional arguments with the\n",
    "                                          # keyword argument `sep` for\n",
    "                                          # separation. The `\\n` is the\n",
    "                                          # new line character or like\n",
    "                                          # hitting the enter key."
   ]
  },
  {
   "cell_type": "code",
   "execution_count": 3,
   "id": "9196e3cd-5e8d-4df0-8a5c-a01d9acff2ce",
   "metadata": {},
   "outputs": [
    {
     "name": "stdout",
     "output_type": "stream",
     "text": [
      "example\n"
     ]
    }
   ],
   "source": [
    "result = print('example')"
   ]
  },
  {
   "cell_type": "code",
   "execution_count": 4,
   "id": "9d185c62-a665-40da-bf8b-88f0e954f7cc",
   "metadata": {},
   "outputs": [
    {
     "name": "stdout",
     "output_type": "stream",
     "text": [
      "result of print is None\n"
     ]
    }
   ],
   "source": [
    "print('result of print is', result)"
   ]
  },
  {
   "cell_type": "code",
   "execution_count": 5,
   "id": "38257fc4-c54b-4bb8-ab87-9040e809b501",
   "metadata": {},
   "outputs": [],
   "source": [
    "result = 'example'"
   ]
  },
  {
   "cell_type": "code",
   "execution_count": 6,
   "id": "ea299c21-c115-4da3-93b0-aa61c67a7951",
   "metadata": {},
   "outputs": [
    {
     "name": "stdout",
     "output_type": "stream",
     "text": [
      "result of print is example\n"
     ]
    }
   ],
   "source": [
    "print('result of print is', result)"
   ]
  },
  {
   "cell_type": "code",
   "execution_count": 7,
   "id": "12d15bae-eb6b-4354-92d8-5f9788b20699",
   "metadata": {},
   "outputs": [
    {
     "name": "stdout",
     "output_type": "stream",
     "text": [
      "3\n"
     ]
    }
   ],
   "source": [
    "print(max(1, 2, 3))"
   ]
  },
  {
   "cell_type": "code",
   "execution_count": 8,
   "id": "cd65bc9e-df71-40bb-b39a-3d0d1f6bec11",
   "metadata": {},
   "outputs": [
    {
     "name": "stdout",
     "output_type": "stream",
     "text": [
      "0\n"
     ]
    }
   ],
   "source": [
    "print(min('a', 'A', '0')) # string are compared based on their ASCII id\n",
    "                          # https://www.ascii-code.com/"
   ]
  },
  {
   "cell_type": "code",
   "execution_count": 9,
   "id": "4fb28897-bcac-4dc9-9fba-7c1b3ac8d002",
   "metadata": {},
   "outputs": [],
   "source": [
    "# This code returns an error because strings and integers and not be compared\n",
    "\n",
    "#print(min('a', 'A', 0))"
   ]
  },
  {
   "cell_type": "code",
   "execution_count": 10,
   "id": "153b5007-6914-4efd-8af9-bb86f742caa8",
   "metadata": {},
   "outputs": [
    {
     "data": {
      "text/plain": [
       "3"
      ]
     },
     "execution_count": 10,
     "metadata": {},
     "output_type": "execute_result"
    }
   ],
   "source": [
    "round(3.14)"
   ]
  },
  {
   "cell_type": "code",
   "execution_count": 11,
   "id": "080fdee0-df97-49c0-b5a3-1fc026bcd089",
   "metadata": {},
   "outputs": [
    {
     "data": {
      "text/plain": [
       "3.1"
      ]
     },
     "execution_count": 11,
     "metadata": {},
     "output_type": "execute_result"
    }
   ],
   "source": [
    "round(3.14, 1)"
   ]
  },
  {
   "cell_type": "code",
   "execution_count": 12,
   "id": "b136b05b-d5da-4ead-839b-3e55de90bef6",
   "metadata": {},
   "outputs": [
    {
     "data": {
      "text/plain": [
       "3.14"
      ]
     },
     "execution_count": 12,
     "metadata": {},
     "output_type": "execute_result"
    }
   ],
   "source": [
    "round(3.14, 2)"
   ]
  },
  {
   "cell_type": "code",
   "execution_count": 13,
   "id": "07a7ce2e-9268-4abb-8b31-94a94be451a4",
   "metadata": {},
   "outputs": [
    {
     "data": {
      "text/plain": [
       "<function round(number, ndigits=None)>"
      ]
     },
     "execution_count": 13,
     "metadata": {},
     "output_type": "execute_result"
    }
   ],
   "source": [
    "round"
   ]
  },
  {
   "cell_type": "code",
   "execution_count": 14,
   "id": "d1da5d9f-dcd0-467d-aa3d-5cc8f42c3b84",
   "metadata": {},
   "outputs": [
    {
     "name": "stdout",
     "output_type": "stream",
     "text": [
      "12\n"
     ]
    }
   ],
   "source": [
    "my_string = 'Hello World!'\n",
    "print(len(my_string))"
   ]
  },
  {
   "cell_type": "code",
   "execution_count": 15,
   "id": "18a8a901-7eae-4ac8-92e7-e022a72156c0",
   "metadata": {},
   "outputs": [
    {
     "name": "stdout",
     "output_type": "stream",
     "text": [
      "hELLO wORLD!\n"
     ]
    }
   ],
   "source": [
    "print(my_string.swapcase())"
   ]
  },
  {
   "cell_type": "code",
   "execution_count": 16,
   "id": "125d4209-6cc6-463e-9ff3-ece2cdaabff3",
   "metadata": {},
   "outputs": [
    {
     "name": "stdout",
     "output_type": "stream",
     "text": [
      "12\n"
     ]
    }
   ],
   "source": [
    "print(my_string.__len__())"
   ]
  },
  {
   "cell_type": "code",
   "execution_count": 17,
   "id": "cdcd010f-cd90-4749-9387-3b620822f0de",
   "metadata": {},
   "outputs": [
    {
     "data": {
      "text/plain": [
       "['__add__',\n",
       " '__class__',\n",
       " '__contains__',\n",
       " '__delattr__',\n",
       " '__dir__',\n",
       " '__doc__',\n",
       " '__eq__',\n",
       " '__format__',\n",
       " '__ge__',\n",
       " '__getattribute__',\n",
       " '__getitem__',\n",
       " '__getnewargs__',\n",
       " '__getstate__',\n",
       " '__gt__',\n",
       " '__hash__',\n",
       " '__init__',\n",
       " '__init_subclass__',\n",
       " '__iter__',\n",
       " '__le__',\n",
       " '__len__',\n",
       " '__lt__',\n",
       " '__mod__',\n",
       " '__mul__',\n",
       " '__ne__',\n",
       " '__new__',\n",
       " '__reduce__',\n",
       " '__reduce_ex__',\n",
       " '__repr__',\n",
       " '__rmod__',\n",
       " '__rmul__',\n",
       " '__setattr__',\n",
       " '__sizeof__',\n",
       " '__str__',\n",
       " '__subclasshook__',\n",
       " 'capitalize',\n",
       " 'casefold',\n",
       " 'center',\n",
       " 'count',\n",
       " 'encode',\n",
       " 'endswith',\n",
       " 'expandtabs',\n",
       " 'find',\n",
       " 'format',\n",
       " 'format_map',\n",
       " 'index',\n",
       " 'isalnum',\n",
       " 'isalpha',\n",
       " 'isascii',\n",
       " 'isdecimal',\n",
       " 'isdigit',\n",
       " 'isidentifier',\n",
       " 'islower',\n",
       " 'isnumeric',\n",
       " 'isprintable',\n",
       " 'isspace',\n",
       " 'istitle',\n",
       " 'isupper',\n",
       " 'join',\n",
       " 'ljust',\n",
       " 'lower',\n",
       " 'lstrip',\n",
       " 'maketrans',\n",
       " 'partition',\n",
       " 'removeprefix',\n",
       " 'removesuffix',\n",
       " 'replace',\n",
       " 'rfind',\n",
       " 'rindex',\n",
       " 'rjust',\n",
       " 'rpartition',\n",
       " 'rsplit',\n",
       " 'rstrip',\n",
       " 'split',\n",
       " 'splitlines',\n",
       " 'startswith',\n",
       " 'strip',\n",
       " 'swapcase',\n",
       " 'title',\n",
       " 'translate',\n",
       " 'upper',\n",
       " 'zfill']"
      ]
     },
     "execution_count": 17,
     "metadata": {},
     "output_type": "execute_result"
    }
   ],
   "source": [
    "# What are the methods that are for the str class object?\n",
    "\n",
    "dir(my_string)"
   ]
  },
  {
   "cell_type": "code",
   "execution_count": 18,
   "id": "47e2ac42-a584-4176-998e-a47684eccb46",
   "metadata": {},
   "outputs": [
    {
     "name": "stdout",
     "output_type": "stream",
     "text": [
      "False\n"
     ]
    }
   ],
   "source": [
    "# a class method is used by chaining a variable to the method with a '.'\n",
    "# like below, we are asking \"Is this srting object in upper case?\"\n",
    "print(my_string.isupper())"
   ]
  },
  {
   "cell_type": "code",
   "execution_count": 19,
   "id": "5c512bdc-b35b-4fe5-bdd3-8b192256bf8e",
   "metadata": {},
   "outputs": [
    {
     "name": "stdout",
     "output_type": "stream",
     "text": [
      "HELLO WORLD!\n"
     ]
    }
   ],
   "source": [
    "print(my_string.upper())"
   ]
  },
  {
   "cell_type": "code",
   "execution_count": 20,
   "id": "4a787de2-7988-4ac2-9f1c-bfbdbe5c929a",
   "metadata": {},
   "outputs": [
    {
     "name": "stdout",
     "output_type": "stream",
     "text": [
      "True\n"
     ]
    }
   ],
   "source": [
    "# We can chain multiple methods together\n",
    "\n",
    "print(my_string.upper().isupper())"
   ]
  },
  {
   "cell_type": "code",
   "execution_count": 21,
   "id": "e99eb3fd-8a62-4584-afbf-db60bc96373a",
   "metadata": {},
   "outputs": [
    {
     "name": "stdout",
     "output_type": "stream",
     "text": [
      "Help on built-in function round in module builtins:\n",
      "\n",
      "round(number, ndigits=None)\n",
      "    Round a number to a given precision in decimal digits.\n",
      "\n",
      "    The return value is an integer if ndigits is omitted or None.  Otherwise\n",
      "    the return value has the same type as the number.  ndigits may be negative.\n",
      "\n"
     ]
    }
   ],
   "source": [
    "# The help function can return some text explaining how to use a function\n",
    "help(round)"
   ]
  },
  {
   "cell_type": "code",
   "execution_count": 22,
   "id": "58f827e7-7066-4b6a-9f2b-f92543a9b288",
   "metadata": {},
   "outputs": [
    {
     "data": {
      "text/plain": [
       "<function round(number, ndigits=None)>"
      ]
     },
     "execution_count": 22,
     "metadata": {},
     "output_type": "execute_result"
    }
   ],
   "source": [
    "# Writing a function without paratheses shows a simpler format of how to\n",
    "# use the function.\n",
    "\n",
    "round"
   ]
  },
  {
   "cell_type": "code",
   "execution_count": 23,
   "id": "607d6359-d818-418e-ade1-72c2d954fe12",
   "metadata": {},
   "outputs": [],
   "source": [
    "# If we do not close a quote, we get an error\n",
    "#name = 'Feng"
   ]
  },
  {
   "cell_type": "code",
   "execution_count": 24,
   "id": "8252db43-abd3-4937-81e6-d7e89fcaf0d6",
   "metadata": {},
   "outputs": [
    {
     "data": {
      "text/plain": [
       "True"
      ]
     },
     "execution_count": 24,
     "metadata": {},
     "output_type": "execute_result"
    }
   ],
   "source": [
    "age = 52 # assign the variable 'age' the integer 52\n",
    "age == 52 # '==' is asking 'Is the variable `age` equivalent to 52?'"
   ]
  },
  {
   "cell_type": "code",
   "execution_count": 25,
   "id": "6327848f-5a58-460f-a900-132fbe5be3ab",
   "metadata": {},
   "outputs": [
    {
     "name": "stdout",
     "output_type": "stream",
     "text": [
      "hello world\n"
     ]
    }
   ],
   "source": [
    "# All brackets require a closure or they will return an error\n",
    "#print(\"hello world\""
   ]
  },
  {
   "cell_type": "code",
   "execution_count": 26,
   "id": "4b08f858-f651-4fb9-8d81-ffa1cfdc425f",
   "metadata": {},
   "outputs": [],
   "source": [
    "# Spelling is crucial. The program has stored the variable `age` and\n",
    "# will only accept exact matches from the user.\n",
    "\n",
    "#age = 53\n",
    "#remaining = 100 - aege # mis-spelled 'age'"
   ]
  },
  {
   "cell_type": "code",
   "execution_count": 27,
   "id": "6bbb5e92-1d89-4d65-a871-c9d7fed2706f",
   "metadata": {},
   "outputs": [
    {
     "data": {
      "text/html": [
       "<div>\n",
       "<style scoped>\n",
       "    .dataframe tbody tr th:only-of-type {\n",
       "        vertical-align: middle;\n",
       "    }\n",
       "\n",
       "    .dataframe tbody tr th {\n",
       "        vertical-align: top;\n",
       "    }\n",
       "\n",
       "    .dataframe thead th {\n",
       "        text-align: right;\n",
       "    }\n",
       "</style>\n",
       "<table border=\"1\" class=\"dataframe\">\n",
       "  <thead>\n",
       "    <tr style=\"text-align: right;\">\n",
       "      <th></th>\n",
       "      <th>country</th>\n",
       "      <th>gdpPercap_1952</th>\n",
       "      <th>gdpPercap_1957</th>\n",
       "      <th>gdpPercap_1962</th>\n",
       "      <th>gdpPercap_1967</th>\n",
       "      <th>gdpPercap_1972</th>\n",
       "      <th>gdpPercap_1977</th>\n",
       "      <th>gdpPercap_1982</th>\n",
       "      <th>gdpPercap_1987</th>\n",
       "      <th>gdpPercap_1992</th>\n",
       "      <th>gdpPercap_1997</th>\n",
       "      <th>gdpPercap_2002</th>\n",
       "      <th>gdpPercap_2007</th>\n",
       "    </tr>\n",
       "  </thead>\n",
       "  <tbody>\n",
       "    <tr>\n",
       "      <th>0</th>\n",
       "      <td>Australia</td>\n",
       "      <td>10039.59564</td>\n",
       "      <td>10949.64959</td>\n",
       "      <td>12217.22686</td>\n",
       "      <td>14526.12465</td>\n",
       "      <td>16788.62948</td>\n",
       "      <td>18334.19751</td>\n",
       "      <td>19477.00928</td>\n",
       "      <td>21888.88903</td>\n",
       "      <td>23424.76683</td>\n",
       "      <td>26997.93657</td>\n",
       "      <td>30687.75473</td>\n",
       "      <td>34435.36744</td>\n",
       "    </tr>\n",
       "    <tr>\n",
       "      <th>1</th>\n",
       "      <td>New Zealand</td>\n",
       "      <td>10556.57566</td>\n",
       "      <td>12247.39532</td>\n",
       "      <td>13175.67800</td>\n",
       "      <td>14463.91893</td>\n",
       "      <td>16046.03728</td>\n",
       "      <td>16233.71770</td>\n",
       "      <td>17632.41040</td>\n",
       "      <td>19007.19129</td>\n",
       "      <td>18363.32494</td>\n",
       "      <td>21050.41377</td>\n",
       "      <td>23189.80135</td>\n",
       "      <td>25185.00911</td>\n",
       "    </tr>\n",
       "  </tbody>\n",
       "</table>\n",
       "</div>"
      ],
      "text/plain": [
       "       country  gdpPercap_1952  gdpPercap_1957  gdpPercap_1962  \\\n",
       "0    Australia     10039.59564     10949.64959     12217.22686   \n",
       "1  New Zealand     10556.57566     12247.39532     13175.67800   \n",
       "\n",
       "   gdpPercap_1967  gdpPercap_1972  gdpPercap_1977  gdpPercap_1982  \\\n",
       "0     14526.12465     16788.62948     18334.19751     19477.00928   \n",
       "1     14463.91893     16046.03728     16233.71770     17632.41040   \n",
       "\n",
       "   gdpPercap_1987  gdpPercap_1992  gdpPercap_1997  gdpPercap_2002  \\\n",
       "0     21888.88903     23424.76683     26997.93657     30687.75473   \n",
       "1     19007.19129     18363.32494     21050.41377     23189.80135   \n",
       "\n",
       "   gdpPercap_2007  \n",
       "0     34435.36744  \n",
       "1     25185.00911  "
      ]
     },
     "execution_count": 27,
     "metadata": {},
     "output_type": "execute_result"
    }
   ],
   "source": [
    "import pandas as pd\n",
    "\n",
    "data_oceania = pd.read_csv('data/gapminder_gdp_oceania.csv')\n",
    "data_oceania"
   ]
  }
 ],
 "metadata": {
  "kernelspec": {
   "display_name": "Python 3 (ipykernel)",
   "language": "python",
   "name": "python3"
  },
  "language_info": {
   "codemirror_mode": {
    "name": "ipython",
    "version": 3
   },
   "file_extension": ".py",
   "mimetype": "text/x-python",
   "name": "python",
   "nbconvert_exporter": "python",
   "pygments_lexer": "ipython3",
   "version": "3.12.6"
  }
 },
 "nbformat": 4,
 "nbformat_minor": 5
}
