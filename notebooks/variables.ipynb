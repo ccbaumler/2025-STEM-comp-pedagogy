{
 "cells": [
  {
   "cell_type": "code",
   "execution_count": 1,
   "id": "35f0e046-204d-4071-a31e-b2a6d2cc63e9",
   "metadata": {},
   "outputs": [],
   "source": [
    "age = 42\n",
    "first_name = 'Ahmed'"
   ]
  },
  {
   "cell_type": "code",
   "execution_count": 2,
   "id": "ece54065-cd00-4e07-83c9-8e8fe768ce54",
   "metadata": {},
   "outputs": [
    {
     "name": "stdout",
     "output_type": "stream",
     "text": [
      "Ahmed is 42 year's old\n"
     ]
    }
   ],
   "source": [
    "print(first_name, \"is\", age, \"year's old\")"
   ]
  },
  {
   "cell_type": "code",
   "execution_count": 2,
   "id": "5d88f416-37b7-45ba-8f1a-4858b1154c9b",
   "metadata": {},
   "outputs": [],
   "source": [
    "# This will return an error message \n",
    "# because we have not defined the variable `last_name`\n",
    "# I commented the code out to prevent the script from 'breaking' at this line\n",
    "\n",
    "#print(last_name)"
   ]
  },
  {
   "cell_type": "code",
   "execution_count": 4,
   "id": "ed3ad8d4-af40-4054-9743-0e262b9c0de1",
   "metadata": {},
   "outputs": [
    {
     "name": "stdout",
     "output_type": "stream",
     "text": [
      "some_name\n"
     ]
    }
   ],
   "source": [
    "last_name = 'some_name'\n",
    "print(last_name)"
   ]
  },
  {
   "cell_type": "code",
   "execution_count": 5,
   "id": "1a570c41-6d43-408e-9017-a2166991ea73",
   "metadata": {},
   "outputs": [],
   "source": [
    "age = 42"
   ]
  },
  {
   "cell_type": "code",
   "execution_count": 6,
   "id": "d141d63d-9643-4454-961f-fa968354e9bc",
   "metadata": {},
   "outputs": [
    {
     "data": {
      "text/plain": [
       "45"
      ]
     },
     "execution_count": 6,
     "metadata": {},
     "output_type": "execute_result"
    }
   ],
   "source": [
    "age = age + 3\n",
    "age"
   ]
  },
  {
   "cell_type": "code",
   "execution_count": 7,
   "id": "19740af8-a234-4941-b37e-2c214e8a8922",
   "metadata": {},
   "outputs": [
    {
     "name": "stdout",
     "output_type": "stream",
     "text": [
      "Age in three years 45\n"
     ]
    }
   ],
   "source": [
    "print('Age in three years', age)"
   ]
  },
  {
   "cell_type": "code",
   "execution_count": 8,
   "id": "8e06244c-4f86-4f98-bda4-9d72398b3553",
   "metadata": {},
   "outputs": [
    {
     "name": "stdout",
     "output_type": "stream",
     "text": [
      "h\n"
     ]
    }
   ],
   "source": [
    "atom_name = 'helium'\n",
    "print(atom_name[0])"
   ]
  },
  {
   "cell_type": "code",
   "execution_count": 9,
   "id": "3e1f1761-0db8-41a6-b060-ac50d7592c7a",
   "metadata": {},
   "outputs": [
    {
     "name": "stdout",
     "output_type": "stream",
     "text": [
      "hel\n"
     ]
    }
   ],
   "source": [
    "print(atom_name[0:3])"
   ]
  },
  {
   "cell_type": "code",
   "execution_count": 10,
   "id": "2c4e16dd-f72b-4bcc-afa3-594980cdc06e",
   "metadata": {},
   "outputs": [
    {
     "data": {
      "text/plain": [
       "'HELIUM'"
      ]
     },
     "execution_count": 10,
     "metadata": {},
     "output_type": "execute_result"
    }
   ],
   "source": [
    "# a python class contains defined properties that can be called\n",
    "# by add the property to the variable of that class\n",
    "\n",
    "# Here I am taking the `atom_name` object and using its string class property\n",
    "# `upper()` to change the string to an upper case string.\n",
    "atom_name.upper()"
   ]
  },
  {
   "cell_type": "code",
   "execution_count": 11,
   "id": "400d3e18-705f-4826-a855-92fe0fd62623",
   "metadata": {},
   "outputs": [
    {
     "name": "stdout",
     "output_type": "stream",
     "text": [
      "6\n"
     ]
    }
   ],
   "source": [
    "print(len('helium'))"
   ]
  },
  {
   "cell_type": "code",
   "execution_count": 12,
   "id": "7dd99aa2-7f0c-4ad8-b75b-42d98274034d",
   "metadata": {},
   "outputs": [
    {
     "name": "stdout",
     "output_type": "stream",
     "text": [
      "6\n"
     ]
    }
   ],
   "source": [
    "print(len(atom_name))"
   ]
  },
  {
   "cell_type": "code",
   "execution_count": 13,
   "id": "573f88cb-f5b0-4c25-886d-b6ee7510129b",
   "metadata": {},
   "outputs": [
    {
     "data": {
      "text/plain": [
       "False"
      ]
     },
     "execution_count": 13,
     "metadata": {},
     "output_type": "execute_result"
    }
   ],
   "source": [
    "# Python is case sensitive because the variable atom_name was assigned\n",
    "# the string 'helium', it is not equivalent to (`==`) 'Helium'\n",
    "atom_name == 'Helium'"
   ]
  },
  {
   "cell_type": "code",
   "execution_count": 14,
   "id": "b10b2120-5ebb-40a5-8629-0dbb6a5c5a9b",
   "metadata": {},
   "outputs": [],
   "source": [
    "x = 1\n",
    "y = 3\n",
    "swap = x\n",
    "x = y\n",
    "y = swap"
   ]
  },
  {
   "cell_type": "code",
   "execution_count": 15,
   "id": "44fd0b26-9bac-4ee9-962b-57993eb6eb51",
   "metadata": {},
   "outputs": [
    {
     "name": "stdout",
     "output_type": "stream",
     "text": [
      "42 and new age is 45\n"
     ]
    }
   ],
   "source": [
    "# Variable names are important. They should be descriptive.\n",
    "# Be careful re-assigning values to existing variables.\n",
    "age = 42\n",
    "age_new = age + 3\n",
    "print(age, 'and new age is', age_new, sep=' ')"
   ]
  },
  {
   "cell_type": "code",
   "execution_count": 16,
   "id": "c9581fb8-fddb-4a3a-abf3-d4dc636895bb",
   "metadata": {},
   "outputs": [],
   "source": [
    "initial = 'left'\n",
    "position = initial\n",
    "initial = 'right'"
   ]
  },
  {
   "cell_type": "code",
   "execution_count": 17,
   "id": "7772bc33-37d9-45bb-a71c-8f70812c66bd",
   "metadata": {},
   "outputs": [],
   "source": [
    "a = '123'"
   ]
  },
  {
   "cell_type": "code",
   "execution_count": 18,
   "id": "cbf95cbc-bb27-497d-b1aa-4fddc0078c60",
   "metadata": {},
   "outputs": [
    {
     "data": {
      "text/plain": [
       "'2'"
      ]
     },
     "execution_count": 18,
     "metadata": {},
     "output_type": "execute_result"
    }
   ],
   "source": [
    "a[1]"
   ]
  },
  {
   "cell_type": "code",
   "execution_count": 19,
   "id": "d4c71ca7-b473-42bf-b7f3-09d52570025e",
   "metadata": {},
   "outputs": [],
   "source": [
    "b = str(123)"
   ]
  },
  {
   "cell_type": "code",
   "execution_count": 20,
   "id": "9461e3ef-9279-4b8b-bfc0-5dd9c1a5dfe1",
   "metadata": {},
   "outputs": [
    {
     "data": {
      "text/plain": [
       "'2'"
      ]
     },
     "execution_count": 20,
     "metadata": {},
     "output_type": "execute_result"
    }
   ],
   "source": [
    "b[1]"
   ]
  },
  {
   "cell_type": "code",
   "execution_count": 21,
   "id": "9dce5e51-10a1-4964-b4e8-3eddccc66a4a",
   "metadata": {},
   "outputs": [],
   "source": [
    "# This is a good example of descriptive naming of variables!\n",
    "\n",
    "# Here the function min() which finds the minimum value is being\n",
    "# changed to an integer of `2`.\n",
    "# This will prevent the function `min()` from being used later on in\n",
    "# the script!\n",
    "\n",
    "m=1\n",
    "s=30\n",
    "min = 2\n",
    "sec = 60\n",
    "minutes = 3\n",
    "seconds = 120\n",
    "\n",
    "ts = m * 60 + s\n",
    "tot_sec = min * 60 + sec\n",
    "total_seconds = minutes * 60 + seconds"
   ]
  },
  {
   "cell_type": "code",
   "execution_count": 22,
   "id": "c1ddc760-3616-48ac-b89c-2f54d07edb35",
   "metadata": {},
   "outputs": [
    {
     "data": {
      "text/plain": [
       "90"
      ]
     },
     "execution_count": 22,
     "metadata": {},
     "output_type": "execute_result"
    }
   ],
   "source": [
    "ts"
   ]
  },
  {
   "cell_type": "code",
   "execution_count": 23,
   "id": "1f46ffd2-86b8-4f36-a3fa-a72770f2cbc6",
   "metadata": {},
   "outputs": [
    {
     "data": {
      "text/plain": [
       "180"
      ]
     },
     "execution_count": 23,
     "metadata": {},
     "output_type": "execute_result"
    }
   ],
   "source": [
    "tot_sec"
   ]
  },
  {
   "cell_type": "code",
   "execution_count": 24,
   "id": "4175ad6d-0afd-4bd5-8a7b-e4265dd9be5d",
   "metadata": {},
   "outputs": [],
   "source": [
    "# min() will return an error stating the class 'int' is not callable.\n",
    "# I.e. The function min() has been written over by the variable `min`\n",
    "# which is an integer, `2`.\n",
    "\n",
    "#min([1,2,3])"
   ]
  },
  {
   "cell_type": "code",
   "execution_count": 25,
   "id": "127371f7-678d-499d-8623-2e7fa341aff2",
   "metadata": {},
   "outputs": [
    {
     "data": {
      "text/plain": [
       "'acia b'"
      ]
     },
     "execution_count": 25,
     "metadata": {},
     "output_type": "execute_result"
    }
   ],
   "source": [
    "species_name = \"Acacia buxifolia\"\n",
    "\n",
    "species_name[2:8]"
   ]
  },
  {
   "cell_type": "code",
   "execution_count": 26,
   "id": "34a7009a-5cd7-4b6c-98b3-2329f1c5d756",
   "metadata": {},
   "outputs": [
    {
     "data": {
      "text/plain": [
       "'folia'"
      ]
     },
     "execution_count": 26,
     "metadata": {},
     "output_type": "execute_result"
    }
   ],
   "source": [
    "species_name[11:] "
   ]
  },
  {
   "cell_type": "code",
   "execution_count": 27,
   "id": "d4000545-0aac-4499-ada0-e95657c2f5cb",
   "metadata": {},
   "outputs": [
    {
     "data": {
      "text/plain": [
       "'Acac'"
      ]
     },
     "execution_count": 27,
     "metadata": {},
     "output_type": "execute_result"
    }
   ],
   "source": [
    "species_name[:4] "
   ]
  },
  {
   "cell_type": "code",
   "execution_count": 28,
   "id": "3f837069-736c-4ed7-982c-65562f1b9c46",
   "metadata": {},
   "outputs": [
    {
     "data": {
      "text/plain": [
       "'Acacia buxifolia'"
      ]
     },
     "execution_count": 28,
     "metadata": {},
     "output_type": "execute_result"
    }
   ],
   "source": [
    "species_name[:]"
   ]
  },
  {
   "cell_type": "code",
   "execution_count": 29,
   "id": "ce36ad66-d7b3-4293-981d-5cfd8900c10e",
   "metadata": {},
   "outputs": [
    {
     "data": {
      "text/plain": [
       "'fo'"
      ]
     },
     "execution_count": 29,
     "metadata": {},
     "output_type": "execute_result"
    }
   ],
   "source": [
    "species_name[11:-3]"
   ]
  },
  {
   "cell_type": "code",
   "execution_count": 32,
   "id": "10ca5037-38d8-42dd-92fd-613f86840396",
   "metadata": {},
   "outputs": [
    {
     "data": {
      "text/plain": [
       "'fo'"
      ]
     },
     "execution_count": 32,
     "metadata": {},
     "output_type": "execute_result"
    }
   ],
   "source": [
    "species_name[11:13]"
   ]
  },
  {
   "cell_type": "code",
   "execution_count": 30,
   "id": "cd2b83d6-0d3c-4ad3-88c4-83839d4a8755",
   "metadata": {},
   "outputs": [
    {
     "data": {
      "text/plain": [
       "'fo'"
      ]
     },
     "execution_count": 30,
     "metadata": {},
     "output_type": "execute_result"
    }
   ],
   "source": [
    "species_name[-5:-3]"
   ]
  }
 ],
 "metadata": {
  "kernelspec": {
   "display_name": "Python 3 (ipykernel)",
   "language": "python",
   "name": "python3"
  },
  "language_info": {
   "codemirror_mode": {
    "name": "ipython",
    "version": 3
   },
   "file_extension": ".py",
   "mimetype": "text/x-python",
   "name": "python",
   "nbconvert_exporter": "python",
   "pygments_lexer": "ipython3",
   "version": "3.12.6"
  }
 },
 "nbformat": 4,
 "nbformat_minor": 5
}
