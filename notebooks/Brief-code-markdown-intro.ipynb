{
 "cells": [
  {
   "cell_type": "markdown",
   "id": "8785a807-3250-4b11-b6a0-36510625c846",
   "metadata": {},
   "source": [
    "Jupyter notebooks allow for formatted text in a Markdown code chunk, Raw text in a Raw code chunk, and Python code in a Python code chunk. "
   ]
  },
  {
   "cell_type": "code",
   "execution_count": 1,
   "id": "4481b2da-a7c5-4b32-b9e1-45094cc7224d",
   "metadata": {},
   "outputs": [
    {
     "name": "stdout",
     "output_type": "stream",
     "text": [
      "hello\n"
     ]
    }
   ],
   "source": [
    "# This is python code!\n",
    "print('hello')"
   ]
  },
  {
   "cell_type": "markdown",
   "id": "da3a8336-f877-467b-a9ac-98cc304b604e",
   "metadata": {},
   "source": [
    "## Explaining what just happened\n",
    "\n",
    "- Opened new notebook\n",
    "- used a code chunk\n",
    "- printed hello"
   ]
  },
  {
   "cell_type": "code",
   "execution_count": 8,
   "id": "7b50a61f-a31f-468c-b6ba-a4fd02684806",
   "metadata": {},
   "outputs": [
    {
     "data": {
      "text/plain": [
       "823543"
      ]
     },
     "execution_count": 8,
     "metadata": {},
     "output_type": "execute_result"
    }
   ],
   "source": [
    "# This is python code!\n",
    "\n",
    "7**7"
   ]
  },
  {
   "cell_type": "markdown",
   "id": "e6d15c80-844b-4b32-a9d9-d80104b0654a",
   "metadata": {},
   "source": [
    "This is markdown format using inline LaTeX formatting to display a complex mathematical formula in a sentence.\n",
    "\n",
    "Here is a mathematical formula $\\sum_{i=1}^{N} 2^{-i} \\approx 1$ about stuff"
   ]
  },
  {
   "cell_type": "markdown",
   "id": "9add0941-d51e-44d7-908c-1a6a84b4d7d3",
   "metadata": {},
   "source": [
    "This is markdown format using a LaTeX chunck to display a complex mathematical formula in the center of the page.\n",
    "\n",
    "Here is the same formula, but not inline\n",
    "\n",
    "$$\n",
    "  \\sum_{i=1}^{N} 2^{-i} \\approx 1\n",
    "$$"
   ]
  }
 ],
 "metadata": {
  "kernelspec": {
   "display_name": "Python 3 (ipykernel)",
   "language": "python",
   "name": "python3"
  },
  "language_info": {
   "codemirror_mode": {
    "name": "ipython",
    "version": 3
   },
   "file_extension": ".py",
   "mimetype": "text/x-python",
   "name": "python",
   "nbconvert_exporter": "python",
   "pygments_lexer": "ipython3",
   "version": "3.12.6"
  }
 },
 "nbformat": 4,
 "nbformat_minor": 5
}
